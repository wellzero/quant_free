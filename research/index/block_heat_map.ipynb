{
 "cells": [
  {
   "cell_type": "code",
   "execution_count": null,
   "metadata": {
    "execution": {
     "iopub.execute_input": "2022-10-11T02:38:08.430117Z",
     "iopub.status.busy": "2022-10-11T02:38:08.425803Z",
     "iopub.status.idle": "2022-10-11T02:38:41.726176Z",
     "shell.execute_reply": "2022-10-11T02:38:41.726176Z",
     "shell.execute_reply.started": "2022-10-11T02:38:08.425803Z"
    },
    "tags": []
   },
   "outputs": [],
   "source": [
    "import matplotlib.pyplot as plt\n",
    "import matplotlib as mpl\n",
    "import numpy as np\n",
    "import pandas as pd\n",
    "import ipywidgets as widgets\n",
    "from IPython.display import display\n",
    "pd.set_option('display.max_rows', None)  # Display all rows\n",
    "pd.set_option('display.max_columns', None)  # Display all columns\n",
    "\n",
    "\n",
    "import seaborn as sns\n",
    "# mpl.rcParams['font.sans-serif'] = ['SimSun', 'KaiTi', 'SimHei', 'FangSong']  # 汉字字体,优先使用楷体，如果找不到楷体，则使用黑体\n",
    "mpl.rcParams['font.family'] = 'SimHei'  # Adjust to the font available in your system\n",
    "\n",
    "mpl.rcParams['font.size'] = 14  # 字体大小\n",
    "mpl.rcParams['axes.unicode_minus'] = False  # 正常显示负号\n",
    "\n",
    "plt.rc('font', family='serif', serif='SimHei')  # Change 'serif' and 'Times New Roman' to your desired font family and name\n",
    "\n",
    "\n",
    "\n",
    "import quantstats_lumi as qs\n",
    "\n",
    "\n",
    "import matplotlib.font_manager as fm\n",
    "\n",
    "# Check available fonts\n",
    "available_fonts = [f.name for f in fm.fontManager.ttflist]\n",
    "print(\"Available fonts:\", available_fonts)\n",
    "if 'Noto Sans CJK JP' in available_fonts:\n",
    "    print(\"Noto Sans CJK JP font is available.\")\n",
    "else:\n",
    "    print(\"Noto Sans CJK JP font is not available.\")\n",
    "\n",
    "\n",
    "\n",
    "# Create a plot with fallback font\n",
    "\n",
    "plt.figure()\n",
    "plt.text(0.5, 0.5, '测试', fontname='SimHei', fontsize=20)  # Use a CJK compatible font for specific text\n",
    "plt.show()\n",
    "\n",
    "# start_date = get_json_config_value(\"start_date\")\n",
    "# end_date = get_json_config_value(\"end_date\")\n",
    "start_date = '2024-01-01'\n",
    "end_date = '2024-10-06'"
   ]
  },
  {
   "cell_type": "code",
   "execution_count": 25,
   "metadata": {},
   "outputs": [],
   "source": [
    "import os\n",
    "from quant_free.dataset.equity_load import *\n",
    "from quant_free.common.us_equity_common import *\n",
    "class heat_map:\n",
    "  def __init__(self, df = None, start_date = '2024-01-01', end_date = '2024-09-27', vmin = -1, vmax = 1):\n",
    "\n",
    "    self.vmin = vmin\n",
    "    self.vmax = vmax\n",
    "    market = 'us'\n",
    "    date = us_equity_get_trade_date_within_range(market, start_date = start_date, end_date = end_date, dir_option = 'xq')\n",
    "    df = df.loc[date, :]\n",
    "    self.data = (df * 100).round(2)\n",
    "    # else:\n",
    "      # print(f\"file {file} is not exist\")\n",
    "      # exit(-1)\n",
    "      \n",
    "  def draw_plot(self, data, xlabel=None, cbar=True, cmap='coolwarm'):\n",
    "      width = 40*len(data.columns)\n",
    "      high = 15*len(data.index)\n",
    "      if width > 2100:width = 2100\n",
    "      if high < 520:high = 520\n",
    "\n",
    "      ylabel = data.index\n",
    "      \n",
    "      fig = plt.figure(figsize=(width/48,high/72))\n",
    "      if xlabel is None:\n",
    "          sns.heatmap(data,fmt='.1f', yticklabels=ylabel,\n",
    "                        linewidths=0.5, annot = True, cbar=cbar,cmap=cmap, vmin=self.vmin, vmax=self.vmax)\n",
    "      else:\n",
    "          sns.heatmap(data,fmt='.1f', yticklabels=ylabel, xticklabels=xlabel, \n",
    "                        linewidths=0.5, annot = True, cbar=cbar,cmap=cmap, vmin=self.vmin, vmax=self.vmax)\n",
    "      plt.xticks(rotation = -90)\n",
    "      plt.show()\n",
    "  \n",
    "  def draw(self, window=3, absolute=False, plot=True):\n",
    "      if absolute:\n",
    "          self.trend = self.data.apply(lambda x: round((x-x.shift(window))/x.shift(window),2), axis=0)\n",
    "          self.trend = self.data.apply(lambda x: round((x-x.shift(window))/x.shift(window),2), axis=0)\n",
    "          if plot: self.draw_plot(self.trend, cmap='coolwarm',vmin=-0.8, vmax=0.8)     \n",
    "      else:\n",
    "\n",
    "          self.trend = self.data \n",
    "              \n",
    "          if plot:\n",
    "              xlabel = self.trend.columns.values\n",
    "              \n",
    "              block_count = len(self.trend.columns)\n",
    "              if block_count > 50:\n",
    "                  self.draw_plot(self.trend.iloc[:,0:int(block_count/2)], xlabel[0:int(block_count/2)], cmap='RdYlGn')\n",
    "                  self.draw_plot(self.trend.iloc[:,int(block_count/2):block_count], xlabel[int(block_count/2):block_count], cmap='RdYlGn')\n",
    "              else:\n",
    "                  self.draw_plot(self.trend, cmap='RdYlGn',vmin=-1, vmax=1)\n",
    "      # return self.trend\n",
    "\n",
    "  def get_data(self):\n",
    "    return self.data"
   ]
  },
  {
   "cell_type": "markdown",
   "metadata": {},
   "source": [
    "xiuqiu price heatmap"
   ]
  },
  {
   "cell_type": "code",
   "execution_count": null,
   "metadata": {},
   "outputs": [],
   "source": [
    "# %%time\n",
    "\n",
    "df= us_dir1_load_csv(market = 'us', dir0 = 'symbol', dir1 = 'xq', filename='index_price_ratio.csv')\n",
    "heat = heat_map(df, start_date = start_date, end_date = end_date)\n",
    "heat.draw()"
   ]
  },
  {
   "cell_type": "markdown",
   "metadata": {},
   "source": [
    "xueqiu amount heatmap"
   ]
  },
  {
   "cell_type": "code",
   "execution_count": null,
   "metadata": {},
   "outputs": [],
   "source": [
    "# %%time\n",
    "\n",
    "df= us_dir1_load_csv(market = 'us', dir0 = 'symbol', dir1 = 'xq', filename='index_amount_ratio.csv')\n",
    "heat = heat_map(df, start_date = start_date, end_date = end_date, vmin = -40, vmax = 40)\n",
    "heat.draw()"
   ]
  },
  {
   "cell_type": "markdown",
   "metadata": {},
   "source": [
    "fh price heatmap"
   ]
  },
  {
   "cell_type": "code",
   "execution_count": null,
   "metadata": {
    "execution": {
     "iopub.execute_input": "2022-10-11T02:38:52.374456Z",
     "iopub.status.busy": "2022-10-11T02:38:52.373501Z",
     "iopub.status.idle": "2022-10-11T02:39:39.320040Z",
     "shell.execute_reply": "2022-10-11T02:39:39.320040Z",
     "shell.execute_reply.started": "2022-10-11T02:38:52.374456Z"
    },
    "tags": []
   },
   "outputs": [],
   "source": [
    "# %%time\n",
    "df= us_dir1_load_csv(market = 'us', dir0 = 'symbol', dir1 = 'fh', filename='index_price_ratio.csv')\n",
    "heat = heat_map(df, start_date = start_date, end_date = end_date)\n",
    "heat.draw()"
   ]
  },
  {
   "cell_type": "markdown",
   "metadata": {},
   "source": [
    "fh amount heatmap"
   ]
  },
  {
   "cell_type": "code",
   "execution_count": null,
   "metadata": {},
   "outputs": [],
   "source": [
    "# %%time\n",
    "df= us_dir1_load_csv(market = 'us', dir0 = 'symbol', dir1 = 'fh', filename='index_amount_ratio.csv')\n",
    "heat = heat_map(df, start_date = start_date, end_date = end_date, vmin = -40, vmax = 40)\n",
    "heat.draw()"
   ]
  }
 ],
 "metadata": {
  "kernelspec": {
   "display_name": "quantfree",
   "language": "python",
   "name": "python3"
  },
  "language_info": {
   "codemirror_mode": {
    "name": "ipython",
    "version": 3
   },
   "file_extension": ".py",
   "mimetype": "text/x-python",
   "name": "python",
   "nbconvert_exporter": "python",
   "pygments_lexer": "ipython3",
   "version": "3.12.3"
  }
 },
 "nbformat": 4,
 "nbformat_minor": 4
}
